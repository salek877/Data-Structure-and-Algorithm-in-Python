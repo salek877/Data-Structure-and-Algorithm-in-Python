{
 "cells": [
  {
   "cell_type": "code",
   "execution_count": 14,
   "id": "6bdcffda",
   "metadata": {},
   "outputs": [
    {
     "name": "stdout",
     "output_type": "stream",
     "text": [
      "[1, 2, 3, 4, 'salek', 20.34, 'A']\n",
      "[1, 2, 3, 4, 'salek', 20.34, 'A']\n",
      "20.34\n",
      "[1, 2, 3, 4, 'salek']\n",
      "[3, 4, 'salek', 20.34]\n",
      "[2, 3, 4, 'salek']\n",
      "[1, 2, 3, 4, 'salek']\n",
      "A\n",
      "20.34\n"
     ]
    }
   ],
   "source": [
    "array = [1, 2, 3, 4, 'salek', 20.34, 'A']\n",
    "\n",
    "#print all the elements in the array [traditional approach]\n",
    "print(array)\n",
    "\n",
    "#print all the items in the array\n",
    "print(array[:])\n",
    "\n",
    "#print a specific item by using idex\n",
    "print(array[5])\n",
    "\n",
    "#print items in a range\n",
    "print(array[0:5])\n",
    "print(array[2:6])\n",
    "print(array[1:-2])\n",
    "\n",
    "#print all items except last 2\n",
    "print(array[:-2])\n",
    "\n",
    "#print last item\n",
    "print(array[-1])\n",
    "\n",
    "#print 2nd last item\n",
    "print(array[-2])\n"
   ]
  },
  {
   "cell_type": "code",
   "execution_count": 17,
   "id": "cc1c27e4",
   "metadata": {},
   "outputs": [
    {
     "name": "stdout",
     "output_type": "stream",
     "text": [
      "[1, 2, 3, 4, 'salek', 20.34, 'A']\n",
      "[1, 2, 3, 4, 'kevin', 20.34, 'A']\n"
     ]
    }
   ],
   "source": [
    "print(array)\n",
    "#modify the array\n",
    "\n",
    "array[4] = 'kevin'\n",
    "print(array)"
   ]
  }
 ],
 "metadata": {
  "kernelspec": {
   "display_name": "Python 3 (ipykernel)",
   "language": "python",
   "name": "python3"
  },
  "language_info": {
   "codemirror_mode": {
    "name": "ipython",
    "version": 3
   },
   "file_extension": ".py",
   "mimetype": "text/x-python",
   "name": "python",
   "nbconvert_exporter": "python",
   "pygments_lexer": "ipython3",
   "version": "3.9.12"
  }
 },
 "nbformat": 4,
 "nbformat_minor": 5
}
