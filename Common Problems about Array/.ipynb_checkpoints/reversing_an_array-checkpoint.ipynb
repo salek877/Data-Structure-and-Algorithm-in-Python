{
 "cells": [
  {
   "cell_type": "markdown",
   "id": "8d800d05",
   "metadata": {},
   "source": [
    "### Reversing an Array"
   ]
  },
  {
   "cell_type": "code",
   "execution_count": 1,
   "id": "92507551",
   "metadata": {},
   "outputs": [],
   "source": [
    "def reverse(nums):\n",
    "    # Pointing to the first item\n",
    "    start_index = 0;\n",
    "    # Pointing to the last item\n",
    "    end_index = len(nums) - 1\n",
    "    \n",
    "    while end_index > start_index:\n",
    "        nums[start_index], nums[end_index] = nums[end_index], nums[start_index]\n",
    "        start_index = start_index + 1\n",
    "        end_index = end_index - 1"
   ]
  },
  {
   "cell_type": "code",
   "execution_count": 2,
   "id": "98e18384",
   "metadata": {},
   "outputs": [
    {
     "name": "stdout",
     "output_type": "stream",
     "text": [
      "[6, 5, 4, 3, 2, 1]\n"
     ]
    }
   ],
   "source": [
    "if __name__ == '__main__':\n",
    "    n = [1, 2, 3, 4, 5, 6]\n",
    "    reverse(n)\n",
    "    print(n)"
   ]
  }
 ],
 "metadata": {
  "kernelspec": {
   "display_name": "Python 3 (ipykernel)",
   "language": "python",
   "name": "python3"
  },
  "language_info": {
   "codemirror_mode": {
    "name": "ipython",
    "version": 3
   },
   "file_extension": ".py",
   "mimetype": "text/x-python",
   "name": "python",
   "nbconvert_exporter": "python",
   "pygments_lexer": "ipython3",
   "version": "3.9.12"
  }
 },
 "nbformat": 4,
 "nbformat_minor": 5
}
