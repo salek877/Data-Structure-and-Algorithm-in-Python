{
 "cells": [
  {
   "cell_type": "code",
   "execution_count": 3,
   "id": "812b02a3",
   "metadata": {},
   "outputs": [
    {
     "name": "stdout",
     "output_type": "stream",
     "text": [
      "554321\n"
     ]
    }
   ],
   "source": [
    "def reverse_integer(n):\n",
    "    reverse_int = 0\n",
    "    remainder = 0\n",
    "    \n",
    "    while n != 0:\n",
    "        remainder = n % 10\n",
    "        reverse_int = reverse_int * 10 + remainder\n",
    "        n = n // 10\n",
    "        #print(reverse_int)\n",
    "    return reverse_int\n",
    "        \n",
    "if __name__ == '__main__':\n",
    "    print(reverse_integer(123455))"
   ]
  },
  {
   "cell_type": "code",
   "execution_count": null,
   "id": "f138cbdf",
   "metadata": {},
   "outputs": [],
   "source": []
  }
 ],
 "metadata": {
  "kernelspec": {
   "display_name": "Python 3 (ipykernel)",
   "language": "python",
   "name": "python3"
  },
  "language_info": {
   "codemirror_mode": {
    "name": "ipython",
    "version": 3
   },
   "file_extension": ".py",
   "mimetype": "text/x-python",
   "name": "python",
   "nbconvert_exporter": "python",
   "pygments_lexer": "ipython3",
   "version": "3.9.12"
  }
 },
 "nbformat": 4,
 "nbformat_minor": 5
}
