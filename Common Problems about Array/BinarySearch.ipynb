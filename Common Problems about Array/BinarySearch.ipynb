{
 "cells": [
  {
   "cell_type": "markdown",
   "id": "64953549",
   "metadata": {},
   "source": [
    "# Binary Search"
   ]
  },
  {
   "cell_type": "code",
   "execution_count": 4,
   "id": "d0b26119",
   "metadata": {},
   "outputs": [
    {
     "name": "stdout",
     "output_type": "stream",
     "text": [
      "Enter the size of array5\n",
      "4\n",
      "2\n",
      "8\n",
      "2\n",
      "6\n",
      "[2, 2, 4, 6, 8]\n",
      "Please enter the key:3\n",
      "You entered wrong key\n"
     ]
    }
   ],
   "source": [
    "def BinarySearch(array, left, right, key):\n",
    "\n",
    "    if right >= left:\n",
    "        mid = (left + right) // 2\n",
    "        \n",
    "        if array[mid] == key:\n",
    "            return mid\n",
    "        elif array[mid] > key:\n",
    "            return BinarySearch(array, left, mid - 1, key)\n",
    "        else:\n",
    "            return BinarySearch(array, mid + 1, right, key)\n",
    "    else:\n",
    "        return -1\n",
    "\n",
    "\n",
    "n = int(input(\"Enter the size of array \"))\n",
    "array = [int(input()) for i in range(n)]\n",
    "array.sort()\n",
    "print(array)\n",
    "\n",
    "key = int(input(\"Please enter the key:\"))\n",
    "\n",
    "result = BinarySearch(array, 0, len(array)-1, key)\n",
    "\n",
    "if result != -1:\n",
    "    print(\"Index of this key is\", str(result))\n",
    "else:\n",
    "    print(\"You entered wrong key\")"
   ]
  },
  {
   "cell_type": "code",
   "execution_count": null,
   "id": "de585240",
   "metadata": {},
   "outputs": [],
   "source": []
  }
 ],
 "metadata": {
  "kernelspec": {
   "display_name": "Python 3 (ipykernel)",
   "language": "python",
   "name": "python3"
  },
  "language_info": {
   "codemirror_mode": {
    "name": "ipython",
    "version": 3
   },
   "file_extension": ".py",
   "mimetype": "text/x-python",
   "name": "python",
   "nbconvert_exporter": "python",
   "pygments_lexer": "ipython3",
   "version": "3.9.12"
  }
 },
 "nbformat": 4,
 "nbformat_minor": 5
}
