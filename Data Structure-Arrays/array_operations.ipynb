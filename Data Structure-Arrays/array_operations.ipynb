{
 "cells": [
  {
   "cell_type": "code",
   "execution_count": 19,
   "id": "386a977a",
   "metadata": {},
   "outputs": [],
   "source": [
    "array = [10, 3, 15, 5]"
   ]
  },
  {
   "cell_type": "code",
   "execution_count": 20,
   "id": "8fce98b4",
   "metadata": {},
   "outputs": [
    {
     "name": "stdout",
     "output_type": "stream",
     "text": [
      "[10, 3, 15, 5]\n",
      "[10, 3, 15, 5]\n",
      "[15, 5]\n",
      "15\n",
      "[10, 3]\n"
     ]
    }
   ],
   "source": [
    "# Printing array in different way\n",
    "print(array)\n",
    "print(array[:])\n",
    "print(array[2:4])\n",
    "print(array[2])\n",
    "print(array[:-2])"
   ]
  },
  {
   "cell_type": "code",
   "execution_count": 21,
   "id": "8c1eac12",
   "metadata": {},
   "outputs": [
    {
     "name": "stdout",
     "output_type": "stream",
     "text": [
      "[10, 3, 'Adam', 5]\n"
     ]
    }
   ],
   "source": [
    "# Replacing element in the array\n",
    "array[2] = 'Adam'\n",
    "print(array)"
   ]
  },
  {
   "cell_type": "code",
   "execution_count": 22,
   "id": "3199b213",
   "metadata": {},
   "outputs": [
    {
     "name": "stdout",
     "output_type": "stream",
     "text": [
      "[10, 'Adam', 5]\n",
      "[10, 5]\n",
      "[10]\n"
     ]
    }
   ],
   "source": [
    "# Remove element from array\n",
    "array.remove(3)\n",
    "print(array)\n",
    "\n",
    "array.pop(1)\n",
    "print(array)\n",
    "\n",
    "del array[1]\n",
    "print(array)"
   ]
  },
  {
   "cell_type": "code",
   "execution_count": 24,
   "id": "c1067891",
   "metadata": {},
   "outputs": [
    {
     "name": "stdout",
     "output_type": "stream",
     "text": [
      "[10, 20]\n"
     ]
    }
   ],
   "source": [
    "# Add element in the array\n",
    "array.append(20)\n",
    "print(array)"
   ]
  }
 ],
 "metadata": {
  "kernelspec": {
   "display_name": "Python 3 (ipykernel)",
   "language": "python",
   "name": "python3"
  },
  "language_info": {
   "codemirror_mode": {
    "name": "ipython",
    "version": 3
   },
   "file_extension": ".py",
   "mimetype": "text/x-python",
   "name": "python",
   "nbconvert_exporter": "python",
   "pygments_lexer": "ipython3",
   "version": "3.9.12"
  }
 },
 "nbformat": 4,
 "nbformat_minor": 5
}
