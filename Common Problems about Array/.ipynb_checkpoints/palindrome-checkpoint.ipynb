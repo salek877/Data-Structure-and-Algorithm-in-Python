{
 "cells": [
  {
   "cell_type": "markdown",
   "id": "2b81fd1b",
   "metadata": {},
   "source": [
    "### Checking palindrome or not"
   ]
  },
  {
   "cell_type": "code",
   "execution_count": 1,
   "id": "bfbe061e",
   "metadata": {},
   "outputs": [],
   "source": [
    "# In python way\n",
    "def palindrome(s):\n",
    "    if s == s[::-1]:\n",
    "        return True\n",
    "    return False"
   ]
  },
  {
   "cell_type": "code",
   "execution_count": 8,
   "id": "1569ef5c",
   "metadata": {},
   "outputs": [
    {
     "name": "stdout",
     "output_type": "stream",
     "text": [
      "True\n"
     ]
    }
   ],
   "source": [
    "if __name__ == '__main__':\n",
    "    print(palindrome('tenet'))"
   ]
  },
  {
   "cell_type": "code",
   "execution_count": 11,
   "id": "e9c18a83",
   "metadata": {},
   "outputs": [],
   "source": [
    "def palindrome(s):\n",
    "    original_string = s\n",
    "    reverse_string = reverse(original_string)\n",
    "    \n",
    "    if original_string == reverse_string:\n",
    "        return True\n",
    "    return False\n",
    "    \n",
    "    def reverse(data):\n",
    "        start_index = 0\n",
    "        end_index = len(data) - 1\n",
    "        if (end_index > start_index):\n",
    "            data[start_index], data[end_index] = data[end_index], data[start_index]\n",
    "            start_index = start_index + 1\n",
    "            end_index = end_index - 1"
   ]
  },
  {
   "cell_type": "code",
   "execution_count": 12,
   "id": "3c364a45",
   "metadata": {},
   "outputs": [
    {
     "ename": "UnboundLocalError",
     "evalue": "local variable 'reverse' referenced before assignment",
     "output_type": "error",
     "traceback": [
      "\u001b[1;31m---------------------------------------------------------------------------\u001b[0m",
      "\u001b[1;31mUnboundLocalError\u001b[0m                         Traceback (most recent call last)",
      "Input \u001b[1;32mIn [12]\u001b[0m, in \u001b[0;36m<cell line: 1>\u001b[1;34m()\u001b[0m\n\u001b[0;32m      1\u001b[0m \u001b[38;5;28;01mif\u001b[39;00m \u001b[38;5;18m__name__\u001b[39m \u001b[38;5;241m==\u001b[39m \u001b[38;5;124m'\u001b[39m\u001b[38;5;124m__main__\u001b[39m\u001b[38;5;124m'\u001b[39m:\n\u001b[1;32m----> 2\u001b[0m     \u001b[38;5;28mprint\u001b[39m(\u001b[43mpalindrome\u001b[49m\u001b[43m(\u001b[49m\u001b[38;5;124;43m'\u001b[39;49m\u001b[38;5;124;43mtenet\u001b[39;49m\u001b[38;5;124;43m'\u001b[39;49m\u001b[43m)\u001b[49m)\n",
      "Input \u001b[1;32mIn [11]\u001b[0m, in \u001b[0;36mpalindrome\u001b[1;34m(s)\u001b[0m\n\u001b[0;32m      1\u001b[0m \u001b[38;5;28;01mdef\u001b[39;00m \u001b[38;5;21mpalindrome\u001b[39m(s):\n\u001b[0;32m      2\u001b[0m     original_string \u001b[38;5;241m=\u001b[39m s\n\u001b[1;32m----> 3\u001b[0m     reverse_string \u001b[38;5;241m=\u001b[39m \u001b[43mreverse\u001b[49m(original_string)\n\u001b[0;32m      5\u001b[0m     \u001b[38;5;28;01mif\u001b[39;00m original_string \u001b[38;5;241m==\u001b[39m reverse_string:\n\u001b[0;32m      6\u001b[0m         \u001b[38;5;28;01mreturn\u001b[39;00m \u001b[38;5;28;01mTrue\u001b[39;00m\n",
      "\u001b[1;31mUnboundLocalError\u001b[0m: local variable 'reverse' referenced before assignment"
     ]
    }
   ],
   "source": [
    "if __name__ == '__main__':\n",
    "    print(palindrome('tenet'))"
   ]
  },
  {
   "cell_type": "code",
   "execution_count": null,
   "id": "b0f271cf",
   "metadata": {},
   "outputs": [],
   "source": []
  }
 ],
 "metadata": {
  "kernelspec": {
   "display_name": "Python 3 (ipykernel)",
   "language": "python",
   "name": "python3"
  },
  "language_info": {
   "codemirror_mode": {
    "name": "ipython",
    "version": 3
   },
   "file_extension": ".py",
   "mimetype": "text/x-python",
   "name": "python",
   "nbconvert_exporter": "python",
   "pygments_lexer": "ipython3",
   "version": "3.9.12"
  }
 },
 "nbformat": 4,
 "nbformat_minor": 5
}
