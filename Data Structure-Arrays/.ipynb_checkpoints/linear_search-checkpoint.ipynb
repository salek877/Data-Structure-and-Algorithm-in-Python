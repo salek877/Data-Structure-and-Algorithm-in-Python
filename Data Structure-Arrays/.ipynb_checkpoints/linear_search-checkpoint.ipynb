{
 "cells": [
  {
   "cell_type": "markdown",
   "id": "634d121a",
   "metadata": {},
   "source": [
    "### Linear Search"
   ]
  },
  {
   "cell_type": "code",
   "execution_count": 3,
   "id": "1e38898a",
   "metadata": {},
   "outputs": [
    {
     "name": "stdout",
     "output_type": "stream",
     "text": [
      "57\n"
     ]
    }
   ],
   "source": [
    "# Finding maximum\n",
    "array = [10, 50, 23, 57, 18, 0]\n",
    "\n",
    "max = array[0]\n",
    "\n",
    "for x in array:\n",
    "    if x > max:\n",
    "        max = x\n",
    "print(max)"
   ]
  },
  {
   "cell_type": "code",
   "execution_count": null,
   "id": "83c137da",
   "metadata": {},
   "outputs": [],
   "source": [
    "# Finfing minimum\n",
    "min = array[0]\n",
    "\n",
    "for x in array:\n",
    "    if x < min:\n",
    "        min = x\n",
    "print(min)"
   ]
  }
 ],
 "metadata": {
  "kernelspec": {
   "display_name": "Python 3 (ipykernel)",
   "language": "python",
   "name": "python3"
  },
  "language_info": {
   "codemirror_mode": {
    "name": "ipython",
    "version": 3
   },
   "file_extension": ".py",
   "mimetype": "text/x-python",
   "name": "python",
   "nbconvert_exporter": "python",
   "pygments_lexer": "ipython3",
   "version": "3.9.12"
  }
 },
 "nbformat": 4,
 "nbformat_minor": 5
}
